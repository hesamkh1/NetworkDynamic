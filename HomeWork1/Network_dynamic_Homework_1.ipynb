{
  "nbformat": 4,
  "nbformat_minor": 0,
  "metadata": {
    "colab": {
      "provenance": [],
      "toc_visible": true
    },
    "kernelspec": {
      "name": "python3",
      "display_name": "Python 3"
    },
    "language_info": {
      "name": "python"
    }
  },
  "cells": [
    {
      "cell_type": "markdown",
      "source": [
        "## **Homework 1**"
      ],
      "metadata": {
        "id": "kLwqElJZUpQN"
      }
    },
    {
      "cell_type": "markdown",
      "source": [
        "# Exersice 1"
      ],
      "metadata": {
        "id": "5CxoCnwfS48G"
      }
    },
    {
      "cell_type": "code",
      "source": [
        "!pip install networkx\n",
        "!pip install cvxpy"
      ],
      "metadata": {
        "colab": {
          "base_uri": "https://localhost:8080/"
        },
        "id": "lVn0LcFVaQ6-",
        "outputId": "855d57f0-155d-4e9a-f954-d05c9be5db24"
      },
      "execution_count": null,
      "outputs": [
        {
          "output_type": "stream",
          "name": "stdout",
          "text": [
            "Requirement already satisfied: networkx in /usr/local/lib/python3.10/dist-packages (3.2.1)\n",
            "Requirement already satisfied: cvxpy in /usr/local/lib/python3.10/dist-packages (1.3.2)\n",
            "Requirement already satisfied: osqp>=0.4.1 in /usr/local/lib/python3.10/dist-packages (from cvxpy) (0.6.2.post8)\n",
            "Requirement already satisfied: ecos>=2 in /usr/local/lib/python3.10/dist-packages (from cvxpy) (2.0.12)\n",
            "Requirement already satisfied: scs>=1.1.6 in /usr/local/lib/python3.10/dist-packages (from cvxpy) (3.2.4)\n",
            "Requirement already satisfied: numpy>=1.15 in /usr/local/lib/python3.10/dist-packages (from cvxpy) (1.23.5)\n",
            "Requirement already satisfied: scipy>=1.1.0 in /usr/local/lib/python3.10/dist-packages (from cvxpy) (1.11.3)\n",
            "Requirement already satisfied: setuptools>65.5.1 in /usr/local/lib/python3.10/dist-packages (from cvxpy) (67.7.2)\n",
            "Requirement already satisfied: qdldl in /usr/local/lib/python3.10/dist-packages (from osqp>=0.4.1->cvxpy) (0.1.7.post0)\n"
          ]
        }
      ]
    },
    {
      "cell_type": "code",
      "source": [
        "pip install picos"
      ],
      "metadata": {
        "colab": {
          "base_uri": "https://localhost:8080/"
        },
        "id": "Km-Ltafc7Drp",
        "outputId": "9acb09be-09aa-4732-c1ff-6ece8b71022f"
      },
      "execution_count": null,
      "outputs": [
        {
          "output_type": "stream",
          "name": "stdout",
          "text": [
            "Collecting picos\n",
            "  Downloading PICOS-2.4.17.tar.gz (510 kB)\n",
            "\u001b[?25l     \u001b[90m━━━━━━━━━━━━━━━━━━━━━━━━━━━━━━━━━━━━━━━━\u001b[0m \u001b[32m0.0/510.7 kB\u001b[0m \u001b[31m?\u001b[0m eta \u001b[36m-:--:--\u001b[0m\r\u001b[2K     \u001b[91m━━━━━━━━━━━\u001b[0m\u001b[90m╺\u001b[0m\u001b[90m━━━━━━━━━━━━━━━━━━━━━━━━━━━━\u001b[0m \u001b[32m143.4/510.7 kB\u001b[0m \u001b[31m4.4 MB/s\u001b[0m eta \u001b[36m0:00:01\u001b[0m\r\u001b[2K     \u001b[90m━━━━━━━━━━━━━━━━━━━━━━━━━━━━━━━━━━━━━━━━\u001b[0m \u001b[32m510.7/510.7 kB\u001b[0m \u001b[31m8.5 MB/s\u001b[0m eta \u001b[36m0:00:00\u001b[0m\n",
            "\u001b[?25h  Preparing metadata (setup.py) ... \u001b[?25l\u001b[?25hdone\n",
            "Requirement already satisfied: cvxopt in /usr/local/lib/python3.10/dist-packages (from picos) (1.3.2)\n",
            "Requirement already satisfied: numpy in /usr/local/lib/python3.10/dist-packages (from picos) (1.23.5)\n",
            "Building wheels for collected packages: picos\n",
            "  Building wheel for picos (setup.py) ... \u001b[?25l\u001b[?25hdone\n",
            "  Created wheel for picos: filename=PICOS-2.4.17-py3-none-any.whl size=472080 sha256=4b994b08caa1ecfac9b96981aff8f32b415f5ac19e75b50c26f6401a4e046bca\n",
            "  Stored in directory: /root/.cache/pip/wheels/fb/af/b5/19872af62fd4c1cc6d17a63cd457017e91db4b410614bc4175\n",
            "Successfully built picos\n",
            "Installing collected packages: picos\n",
            "Successfully installed picos-2.4.17\n"
          ]
        }
      ]
    },
    {
      "cell_type": "code",
      "execution_count": null,
      "metadata": {
        "colab": {
          "base_uri": "https://localhost:8080/",
          "height": 516
        },
        "id": "ELq3bREzy6sD",
        "outputId": "f84ecc24-d5dd-48d6-ecd7-6438d3d16239"
      },
      "outputs": [
        {
          "output_type": "display_data",
          "data": {
            "text/plain": [
              "<Figure size 640x480 with 1 Axes>"
            ],
            "image/png": "[encoded data removed]"
          },
          "metadata": {}
        }
      ],
      "source": [
        "import networkx as nx\n",
        "import matplotlib.pyplot as plt\n",
        "\n",
        "# Create the directed graph as described in your previous code\n",
        "G = nx.DiGraph()\n",
        "G.add_edges_from([(\"o\",\"a\"), (\"o\",\"b\"), (\"a\",\"d\"), (\"b\",\"d\"), (\"b\",\"c\"), (\"c\",\"d\")])\n",
        "\n",
        "# Add edge capacities to the graph\n",
        "capacities = {(\"o\", \"a\"): 3, (\"o\", \"b\"): 3, (\"b\", \"c\"): 3, (\"a\", \"d\"): 2, (\"b\", \"d\"): 2, (\"c\", \"d\"): 1}\n",
        "nx.set_edge_attributes(G, capacities, 'capacity')\n",
        "\n",
        "# Specify the position for vertices\n",
        "pos = {\"o\": [0, 2], \"a\": [1, 3], \"b\": [1, 2], \"c\": [1, 0], \"d\": [2, 2]}\n",
        "\n",
        "# Draw the graph\n",
        "labels = nx.get_edge_attributes(G, 'capacity')\n",
        "\n",
        "nx.draw(G, pos, with_labels=True, node_size=600, font_size=12, node_color='lightgray', width=2,\n",
        "        edge_color='black', edgecolors='red')\n",
        "nx.draw_networkx_edge_labels(G, pos, edge_labels=labels, font_size=12, font_color='red')\n",
        "\n",
        "# Show the plot\n",
        "plt.show()"
      ]
    },
    {
      "cell_type": "markdown",
      "source": [
        "## Exersice 1-1"
      ],
      "metadata": {
        "id": "Hh0EPRa8S_vd"
      }
    },
    {
      "cell_type": "code",
      "source": [
        "import networkx as nx\n",
        "import matplotlib.pyplot as plt\n",
        "\n",
        "\n",
        "# Create the directed graph as described in your previous code\n",
        "G = nx.DiGraph()\n",
        "G.add_edges_from([(\"o\",\"a\"), (\"o\",\"b\"), (\"a\",\"d\"), (\"b\",\"d\"), (\"b\",\"c\"), (\"c\",\"d\")])\n",
        "\n",
        "# Add edge capacities to the graph\n",
        "capacities = {(\"o\", \"a\"): 3, (\"o\", \"b\"): 3, (\"b\", \"c\"): 3, (\"a\", \"d\"): 2, (\"b\", \"d\"): 2, (\"c\", \"d\"): 1}\n",
        "nx.set_edge_attributes(G, capacities, 'capacity')\n",
        "\n",
        "# Specify the position for vertices\n",
        "pos = {\"o\": [0, 2], \"a\": [1, 3], \"b\": [1, 2], \"c\": [1, 0], \"d\": [2, 2]}\n",
        "\n",
        "# Draw the graph\n",
        "labels = nx.get_edge_attributes(G, 'capacity')\n",
        "\n",
        "nx.draw(G, pos, with_labels=True, node_size=600, font_size=12, node_color='lightgray', width=2,\n",
        "        edge_color='black', edgecolors='red')\n",
        "nx.draw_networkx_edge_labels(G, pos, edge_labels=labels, font_size=12, font_color='red')\n",
        "\n",
        "\n",
        "\n",
        "# Find the minimum cut\n",
        "cut_value, partition = nx.minimum_cut(G, \"o\", \"d\")\n",
        "\n",
        "# Calculate the minimum aggregate capacity to remove\n",
        "min_capacity_to_remove = sum(G[u][v]['capacity'] for u, v in G.edges if u in partition[0] and v in partition[1])\n",
        "print(\"Minimum aggregate capacity to remove:\", min_capacity_to_remove)\n",
        "\n",
        "# Display the two sets of nodes that define the minimum cut\n",
        "print(\"Minimum cut partition:\", partition)\n",
        "\n",
        "# Highlight the edges in the minimum cut\n",
        "cut_edges = [(u, v) for u, v in G.edges if u in partition[0] and v in partition[1]]\n",
        "nx.draw_networkx_edges(G, pos, edgelist=cut_edges, width=4, edge_color='blue')\n",
        "\n",
        "# Show the plot\n",
        "plt.show()\n"
      ],
      "metadata": {
        "colab": {
          "base_uri": "https://localhost:8080/",
          "height": 551
        },
        "id": "pMbMxfCsfvDp",
        "outputId": "0e5ead18-8ae9-4575-9fb7-1d134ae3eb88"
      },
      "execution_count": null,
      "outputs": [
        {
          "output_type": "stream",
          "name": "stdout",
          "text": [
            "Minimum aggregate capacity to remove: 5\n",
            "Minimum cut partition: ({'o', 'a', 'c', 'b'}, {'d'})\n"
          ]
        },
        {
          "output_type": "display_data",
          "data": {
            "text/plain": [
              "<Figure size 640x480 with 1 Axes>"
            ],
            "image/png": "[encoded data removed]"
          },
          "metadata": {}
        }
      ]
    },
    {
      "cell_type": "markdown",
      "source": [
        "## Exersice 1-2"
      ],
      "metadata": {
        "id": "QYVWI5mdTE7u"
      }
    },
    {
      "cell_type": "code",
      "source": [
        "nx.algorithms.flow.maximum_flow(G,\"o\",\"d\")"
      ],
      "metadata": {
        "colab": {
          "base_uri": "https://localhost:8080/"
        },
        "id": "j_PgFoTWp3Gk",
        "outputId": "77b4eb48-8544-48fa-b186-2ddb8efcd9be"
      },
      "execution_count": null,
      "outputs": [
        {
          "output_type": "execute_result",
          "data": {
            "text/plain": [
              "(5,\n",
              " {'o': {'a': 2, 'b': 3},\n",
              "  'a': {'d': 2},\n",
              "  'b': {'d': 2, 'c': 1},\n",
              "  'd': {},\n",
              "  'c': {'d': 1}})"
            ]
          },
          "metadata": {},
          "execution_count": 11
        }
      ]
    },
    {
      "cell_type": "markdown",
      "source": [
        "## Exersice 1-3"
      ],
      "metadata": {
        "id": "NYGvKDhKTJ_P"
      }
    },
    {
      "cell_type": "code",
      "source": [
        "!pip install picos\n",
        "!pip install swiglpk"
      ],
      "metadata": {
        "colab": {
          "base_uri": "https://localhost:8080/"
        },
        "id": "Q2zo-tDZKzX7",
        "outputId": "a49c6a5a-266d-44c1-ffa7-59e7a28ca0fa"
      },
      "execution_count": null,
      "outputs": [
        {
          "output_type": "stream",
          "name": "stdout",
          "text": [
            "Requirement already satisfied: picos in /usr/local/lib/python3.10/dist-packages (2.4.17)\n",
            "Requirement already satisfied: cvxopt in /usr/local/lib/python3.10/dist-packages (from picos) (1.3.2)\n",
            "Requirement already satisfied: numpy in /usr/local/lib/python3.10/dist-packages (from picos) (1.23.5)\n",
            "Collecting swiglpk\n",
            "  Downloading swiglpk-5.0.10-cp310-cp310-manylinux_2_17_x86_64.manylinux2014_x86_64.whl (2.3 MB)\n",
            "\u001b[2K     \u001b[90m━━━━━━━━━━━━━━━━━━━━━━━━━━━━━━━━━━━━━━━━\u001b[0m \u001b[32m2.3/2.3 MB\u001b[0m \u001b[31m22.4 MB/s\u001b[0m eta \u001b[36m0:00:00\u001b[0m\n",
            "\u001b[?25hInstalling collected packages: swiglpk\n",
            "Successfully installed swiglpk-5.0.10\n"
          ]
        }
      ]
    },
    {
      "cell_type": "code",
      "source": [
        "import picos as pc\n",
        "\n",
        "for x in range(0, 10):\n",
        "  # Extra capacity available\n",
        "  gamma = x\n",
        "\n",
        "  # Extracting capacities as dictionary\n",
        "  c = {}\n",
        "  for e in sorted(G.edges(data=True)):\n",
        "    capacity = e[2]['capacity']\n",
        "    c[(e[0], e[1])]  = capacity\n",
        "\n",
        "  # Convert the capacities to a PICOS expression.\n",
        "  cc = pc.new_param('c',c)\n",
        "\n",
        "  s, t = 'o', 'd'\n",
        "\n",
        "  maxflow=pc.Problem()\n",
        "\n",
        "  # Add the flow variables.\n",
        "  f={}\n",
        "  for e in G.edges():\n",
        "    f[e]=maxflow.add_variable('f[{0}]'.format(e))\n",
        "\n",
        "  # Add the extra capacity variable\n",
        "  ex={}\n",
        "  for e in G.edges():\n",
        "    ex[e]=maxflow.add_variable('ex[{0}]'.format(e))\n",
        "\n",
        "  # Add the objective variable for the total flow.\n",
        "  F=maxflow.add_variable('F')\n",
        "\n",
        "  # CONSTRAINTS\n",
        "  # Enforce flow conservation.\n",
        "  maxflow.add_list_of_constraints([\n",
        "      pc.sum([f[p,i] for p in G.predecessors(i)])\n",
        "      == pc.sum([f[i,j] for j in G.successors(i)])\n",
        "      for i in G.nodes() if i not in (s,t)])\n",
        "\n",
        "  # Set source flow at s.\n",
        "  maxflow.add_constraint(\n",
        "    pc.sum([f[p,s] for p in G.predecessors(s)]) + F\n",
        "    == pc.sum([f[s,j] for j in G.successors(s)]))\n",
        "\n",
        "  # Set sink flow at t.\n",
        "  maxflow.add_constraint(\n",
        "    pc.sum([f[p,t] for p in G.predecessors(t)])\n",
        "    == pc.sum([f[t,j] for j in G.successors(t)]) + F)\n",
        "\n",
        "  # Enforce flow nonnegativity.\n",
        "  maxflow.add_list_of_constraints([f[e] >= 0 for e in G.edges()])\n",
        "\n",
        "  # Enforce edge capacities.\n",
        "  maxflow.add_list_of_constraints([f[e] <= cc[e] + ex[e] for e in G.edges()])\n",
        "\n",
        "  # Enforce extra capacity nonnegativity.\n",
        "  maxflow.add_list_of_constraints([ex[e] >= 0 for e in G.edges()])\n",
        "\n",
        "  # Set extra capacity value constraint.\n",
        "  maxflow.add_constraint(pc.sum([ex[e] for e in G.edges()]) <= gamma)\n",
        "\n",
        "  # Set the objective.\n",
        "  maxflow.set_objective('max', F)\n",
        "\n",
        "  # Solve the problem.\n",
        "  maxflow.solve(solver='glpk')\n",
        "\n",
        "import math\n",
        "import random\n",
        "\n",
        "print(math.floor(F))\n",
        "\n",
        "for val in ex.items():\n",
        "  print(val[0], round(val[1]))"
      ],
      "metadata": {
        "colab": {
          "base_uri": "https://localhost:8080/"
        },
        "id": "tCktajomvtpm",
        "outputId": "ca96d578-cb97-4b7d-c632-2c74d3380da4"
      },
      "execution_count": null,
      "outputs": [
        {
          "output_type": "stream",
          "name": "stderr",
          "text": [
            "<ipython-input-14-95aec6b4e263>:14: DeprecationWarning: new_param is deprecated: Use picos.Constant instead.\n",
            "  cc = pc.new_param('c',c)\n",
            "<ipython-input-14-95aec6b4e263>:23: DeprecationWarning: Problem.add_variable is deprecated: Variables can now be created independent of problems, and do not need to be added to any problem explicitly.\n",
            "  f[e]=maxflow.add_variable('f[{0}]'.format(e))\n",
            "<ipython-input-14-95aec6b4e263>:28: DeprecationWarning: Problem.add_variable is deprecated: Variables can now be created independent of problems, and do not need to be added to any problem explicitly.\n",
            "  ex[e]=maxflow.add_variable('ex[{0}]'.format(e))\n",
            "<ipython-input-14-95aec6b4e263>:31: DeprecationWarning: Problem.add_variable is deprecated: Variables can now be created independent of problems, and do not need to be added to any problem explicitly.\n",
            "  F=maxflow.add_variable('F')\n"
          ]
        },
        {
          "output_type": "stream",
          "name": "stdout",
          "text": [
            "10\n",
            "('o', 'a') 4\n",
            "('o', 'b') 0\n",
            "('a', 'd') 5\n",
            "('b', 'd') 0\n",
            "('b', 'c') 0\n",
            "('c', 'd') 0\n"
          ]
        }
      ]
    },
    {
      "cell_type": "markdown",
      "source": [
        "# Exersice 2"
      ],
      "metadata": {
        "id": "AKrUeG0bTks7"
      }
    },
    {
      "cell_type": "code",
      "source": [
        "import networkx as nx\n",
        "import matplotlib.pyplot as plt\n",
        "\n",
        "def create_bipartite_graph():\n",
        "    G = nx.DiGraph()\n",
        "    edges = [(\"p1\", \"b1\"), (\"p1\", \"b2\"), (\"p2\", \"b2\"), (\"p2\", \"b3\"),\n",
        "             (\"p3\", \"b1\"), (\"p3\", \"b4\"), (\"p4\", \"b1\"), (\"p4\", \"b2\"), (\"p4\", \"b4\")]\n",
        "    G.add_edges_from(edges)\n",
        "    return G\n",
        "\n",
        "def visualize_bipartite_graph(G):\n",
        "    fig, ax = plt.subplots(figsize=(4, 4))\n",
        "\n",
        "    pos = {\"p1\": [0, 2], \"p2\": [0, 1], \"p3\": [0, 0], \"p4\": [0, -1],\n",
        "           \"b1\": [1, 2], \"b2\": [1, 1], \"b3\": [1, 0], \"b4\": [1, -1]}\n",
        "\n",
        "    nx.draw(G, pos, node_size=600, font_size=12, node_color='lightblue', with_labels=True, width=2,\n",
        "            edge_color='black', edgecolors='red', ax=ax)\n",
        "\n",
        "    plt.savefig(\"plot2.1.svg\", format=\"svg\")\n",
        "    plt.show()\n",
        "\n",
        "# Create and visualize the bipartite graph\n",
        "G_bipartite = create_bipartite_graph()\n",
        "visualize_bipartite_graph(G_bipartite)"
      ],
      "metadata": {
        "id": "ys9uWz3aTsNt"
      },
      "execution_count": null,
      "outputs": []
    },
    {
      "cell_type": "markdown",
      "source": [
        "## Exersice 2-1"
      ],
      "metadata": {
        "id": "nc4xvcmHT0jW"
      }
    },
    {
      "cell_type": "code",
      "source": [
        "# Create a directed graph\n",
        "G = nx.DiGraph()\n",
        "# Add nodes for the source and sink\n",
        "G.add_node('s')\n",
        "G.add_node('t')\n",
        "\n",
        "# Add edges from source to people\n",
        "people = ['p1', 'p2', 'p3', 'p4']\n",
        "for person in people:\n",
        "    G.add_edge('s', person, capacity=1)\n",
        "\n",
        "# Define the interests of each person\n",
        "interests = {\n",
        "    'p1': ['b1', 'b2'],\n",
        "    'p2': ['b2', 'b3'],\n",
        "    'p3': ['b1', 'b4'],\n",
        "    'p4': ['b1', 'b2', 'b4']\n",
        "}\n",
        "\n",
        "# Add edges from people to books they are interested in\n",
        "for person, books in interests.items():\n",
        "    for book in books:\n",
        "        G.add_edge(person, book, capacity=1)\n",
        "\n",
        "# Add edges from books to sink\n",
        "books = ['b1', 'b2', 'b3', 'b4']\n",
        "for book in books:\n",
        "    G.add_edge(book, 't', capacity=1)\n",
        "\n",
        "# Calculate the maximum flow\n",
        "flow_value, flow_dict = nx.maximum_flow(G, 's', 't')\n",
        "\n",
        "# Check if there's a perfect matching\n",
        "perfect_matching_exists = flow_value == len(people)\n",
        "matching = {}\n",
        "\n",
        "# If there's a perfect matching, extract it\n",
        "if perfect_matching_exists:\n",
        "    for person in people:\n",
        "        for book, flow in flow_dict[person].items():\n",
        "            if flow > 0:  # If the flow is greater than 0, then the book is matched to the person\n",
        "                matching[person] = book\n",
        "\n",
        "# Output the matching\n",
        "print(\"Perfect matching exists:\", perfect_matching_exists)\n",
        "print(\"Matching pairs:\")\n",
        "for person, book in matching.items():\n",
        "    print(f\"{person} -> {book}\")\n",
        "\n",
        "\n",
        "\n",
        "# Define edge colors and node positions\n",
        "edge_colors = [\"black\", \"black\", \"black\", \"black\", \"black\", \"red\", \"black\", \"red\", \"red\", \"black\", \"black\", \"black\", \"red\", \"black\", \"black\", \"black\", \"black\"]\n",
        "position = {\"p1\": [0, 2], \"p2\": [0, 1], \"p3\": [0, 0], \"p4\": [0, -1], \"b1\": [1, 2], \"b2\": [1, 1], \"b3\": [1, 0], \"b4\": [1, -1], \"s\": [-1, 0.5], \"t\": [2, 0.5]}\n",
        "\n",
        "# Visualize the graph\n",
        "labels = nx.get_edge_attributes(G, 'capacity')\n",
        "nx.draw(G, pos=position, with_labels=True, node_size=700, node_color='skyblue', font_size=8, edge_color=edge_colors)\n",
        "nx.draw_networkx_edge_labels(G, position, edge_labels=labels)\n",
        "\n",
        "plt.show()"
      ],
      "metadata": {
        "id": "TB2dW5TlUEgM"
      },
      "execution_count": null,
      "outputs": []
    },
    {
      "cell_type": "markdown",
      "source": [
        "## Exersice 2-2"
      ],
      "metadata": {
        "id": "ChFEHBjtT9QM"
      }
    },
    {
      "cell_type": "code",
      "source": [
        "import networkx as nx\n",
        "import matplotlib.pyplot as plt\n",
        "\n",
        "# Define the new capacities for the edges from books to sink (number of copies for each book)\n",
        "book_copies = {'b1': 2, 'b2': 3, 'b3': 2, 'b4': 2}\n",
        "\n",
        "# Create a new directed graph\n",
        "G = nx.DiGraph()\n",
        "\n",
        "# Add nodes for the source and sink\n",
        "G.add_node('s')\n",
        "G.add_node('t')\n",
        "\n",
        "# Add edges from source to people with specified capacities\n",
        "people_capacities = {'p1': 2, 'p2': 3, 'p3': 2, 'p4': 2}\n",
        "for person, capacity in people_capacities.items():\n",
        "    G.add_edge('s', person, capacity=capacity)\n",
        "\n",
        "# Define the interests of each person\n",
        "interests = {\n",
        "    'p1': ['b1', 'b2'],\n",
        "    'p2': ['b2', 'b3'],\n",
        "    'p3': ['b1', 'b4'],\n",
        "    'p4': ['b1', 'b2', 'b4']\n",
        "}\n",
        "\n",
        "# Add edges from people to books they are interested in with capacity of 1\n",
        "for person, books in interests.items():\n",
        "    for book in books:\n",
        "        G.add_edge(person, book, capacity=1)\n",
        "\n",
        "# Add edges from books to sink with the updated capacities\n",
        "books = ['b1', 'b2', 'b3', 'b4']\n",
        "for book, copies in book_copies.items():\n",
        "    G.add_edge(book, 't', capacity=copies)\n",
        "\n",
        "\n",
        "# Output the total number of books assigned\n",
        "flow_value, _ = nx.maximum_flow(G, 's', 't')\n",
        "print(\"Total number of books that can be assigned:\", flow_value)\n",
        "\n",
        "# Define node positions for better visualization\n",
        "position = {'s': (-1, 0.5), 't': (2, 0.5), 'p1': (0, 2), 'p2': (0, 1), 'p3': (0, 0), 'p4': (0, -1),\n",
        "            'b1': (1, 2), 'b2': (1, 1), 'b3': (1, 0), 'b4': (1, -1)}\n",
        "\n",
        "# Visualize the graph\n",
        "labels = nx.get_edge_attributes(G, 'capacity')\n",
        "nx.draw(G, pos=position, with_labels=True, node_size=700, node_color='skyblue', font_size=8, edge_color='black')\n",
        "nx.draw_networkx_edge_labels(G, position, edge_labels=labels)\n",
        "\n",
        "plt.show()"
      ],
      "metadata": {
        "id": "C7eZpZg6UFkd"
      },
      "execution_count": null,
      "outputs": []
    },
    {
      "cell_type": "markdown",
      "source": [
        "## Exersice 2-3"
      ],
      "metadata": {
        "id": "CJTnyUuGT_xU"
      }
    },
    {
      "cell_type": "code",
      "source": [
        "nodes = G.nodes  # store nodes\n",
        "edges = G.edges  # store edges\n",
        "\n",
        "for node_i in nodes:\n",
        "\n",
        "    inflow = 0  # no of input edge\n",
        "    outflow = 0  # no of output edge\n",
        "\n",
        "    # source node is not considered\n",
        "    if node_i == \"s\":\n",
        "        continue\n",
        "\n",
        "    # person nodes are not considered\n",
        "    if node_i in [\"p1\", \"p2\", \"p3\", \"p4\"]:\n",
        "        continue\n",
        "\n",
        "    # calculate inflow of node_i (Book nodes)\n",
        "    for u, v, data in G.in_edges(node_i, data=True):\n",
        "        inflow = sum(data.values()) + inflow\n",
        "\n",
        "    # calculate outflow of node_i (Book nodes)\n",
        "    for u, v, data in G.out_edges(node_i, data=True):\n",
        "        outflow = sum(data.values()) + outflow\n",
        "\n",
        "    # print inflow and outflow of node_i (Book nodes)\n",
        "    print(f\"{node_i} inflow: {inflow}\")\n",
        "    print(f\"{node_i} outflow: {outflow}\")\n",
        "\n",
        "    # netflow of node_i (Book nodes)\n",
        "    netflow = inflow - outflow\n",
        "\n",
        "    # if some nodes have inflow greater or minor than outflow, means that it has not an optimized flow\n",
        "    if netflow > 0 and node_i != \"s\" and node_i != \"t\":\n",
        "        print(f\"1 copy of the book {node_i} can be sold \")\n",
        "    elif netflow < 0 and node_i != \"s\" and node_i != \"t\":\n",
        "        print(f\"{-netflow} copy of the book {node_i} can be bought \")\n",
        "\n",
        "# print inflow and outflow of the destination node 't'\n",
        "inflow_t = sum(data['capacity'] for u, v, data in G.in_edges('t', data=True))\n",
        "outflow_t = sum(data['capacity'] for u, v, data in G.out_edges('t', data=True))\n",
        "print(\"t inflow:\", inflow_t)\n",
        "print(\"t outflow:\", outflow_t)\n",
        "\n",
        "# print the maximum possible outflow\n",
        "maxPossibleOutflow = max(inflow_t, 0)\n",
        "print(\"Max possible outflow:\", maxPossibleOutflow)"
      ],
      "metadata": {
        "id": "JvKVVb4jULK9"
      },
      "execution_count": null,
      "outputs": []
    },
    {
      "cell_type": "markdown",
      "source": [
        "# Exersice 3"
      ],
      "metadata": {
        "id": "sgtcgLiwRvw9"
      }
    },
    {
      "cell_type": "code",
      "source": [
        "# Import necessary libraries\n",
        "import scipy.io\n",
        "import cvxpy as cp\n",
        "import numpy as np\n",
        "import networkx as nx\n",
        "\n",
        "# Load data from mat files\n",
        "flow = scipy.io.loadmat(\"flow.mat\")[\"flow\"].reshape(28,)\n",
        "capacities = scipy.io.loadmat(\"capacities.mat\")[\"capacities\"].reshape(28,)\n",
        "traffic = scipy.io.loadmat(\"traffic.mat\")[\"traffic\"]\n",
        "traveltime = scipy.io.loadmat(\"traveltime.mat\")[\"traveltime\"].reshape(28,)\n",
        "\n",
        "# Create a directed graph\n",
        "G2 = nx.DiGraph()\n",
        "\n",
        "# Populate the graph with edges and capacities based on traffic data\n",
        "for i in range(traffic.shape[1]):\n",
        "    for j in range(traffic.shape[0]):\n",
        "        if traffic[j][i] == 1:  # 1 -> source\n",
        "            src = j + 1\n",
        "        elif traffic[j][i] == -1:  # -1 -> destination\n",
        "            dst = j + 1\n",
        "    G2.add_edges_from([(src, dst)], capacity=capacities[i])\n",
        "\n",
        "# Define positions for nodes in the graph\n",
        "pos = {1: [-2, 1], 2: [-1, 1], 3: [0.5, 1], 4: [2, 1], 5: [4, 0], 6: [-4, -1], 7: [-2.5, -1], 8: [-1, -1], 9: [1, -1],\n",
        "       10: [-3, -2], 11: [-1, -2], 12: [0.5, -2], 13: [2, -2], 14: [4, -2], 15: [-1.5, -3], 16: [0, -3], 17: [2, -3]}\n",
        "\n",
        "# Draw the graph using networkx and matplotlib\n",
        "nx.draw(G2,pos, with_labels=True, node_size=700, node_color='lightgreen', font_size=8, font_color='black', edge_color='darkorange')"
      ],
      "metadata": {
        "id": "UUIV6Vl-Rt7C"
      },
      "execution_count": null,
      "outputs": []
    },
    {
      "cell_type": "markdown",
      "source": [
        "##Exercise 3-1"
      ],
      "metadata": {
        "id": "uW6BZcVkR160"
      }
    },
    {
      "cell_type": "code",
      "source": [
        "# Find the shortest path in the graph G2 from source node 1 to target node 17 based on travel time as the weight\n",
        "shortestPath = nx.shortest_path(G2, source=1, target=17, weight='traveltime')\n",
        "\n",
        "# Print the result\n",
        "print(\"Shortest path from node 1 to node 17: \", shortestPath)"
      ],
      "metadata": {
        "id": "KyD1KwjER4iN"
      },
      "execution_count": null,
      "outputs": []
    },
    {
      "cell_type": "markdown",
      "source": [
        "## Exercise 3-2"
      ],
      "metadata": {
        "id": "agaD7K-HR8QM"
      }
    },
    {
      "cell_type": "code",
      "source": [
        "# Calculate the maximum flow in the graph G2 from source node 1 to target node 17\n",
        "maxFlow = nx.algorithms.flow.maximum_flow(G2, 1, 17)\n",
        "\n",
        "# Print the result\n",
        "print(\"Maximum flow from node 1 to node 17: \", maxFlow)"
      ],
      "metadata": {
        "id": "Co5u-6VSR_bE"
      },
      "execution_count": null,
      "outputs": []
    },
    {
      "cell_type": "markdown",
      "source": [
        "## Exercise 3-3"
      ],
      "metadata": {
        "id": "QD-lECT3SBfe"
      }
    },
    {
      "cell_type": "code",
      "source": [
        "# Define the basic variables and matrices for the optimization problem\n",
        "B = traffic  # B matrix representing the network structure\n",
        "f = cp.Variable(B.shape[1])  # Variable representing the flow on each edge\n",
        "\n",
        "# Define exogenous flow vector - unitary inflow from node 1 to node 17\n",
        "exogenousFlow = np.array([1, 0, 0, 0, 0, 0, 0, 0, 0, 0, 0, 0, 0, 0, 0, 0, -1])\n",
        "\n",
        "# Define the travel time vector\n",
        "traveltime = np.array(traveltime)\n",
        "\n",
        "# Define the optimization objective - minimize the total travel time\n",
        "objective = cp.Minimize(traveltime.T @ f)  # Linear combination of the flow values\n",
        "\n",
        "# Define the constraints for the optimization problem\n",
        "constraints = [f >= 0, B @ f == exogenousFlow]  # Non-negativity constraint and flow balance constraint\n",
        "\n",
        "# Solve the optimization problem\n",
        "cp.Problem(objective, constraints).solve()\n",
        "\n",
        "# Print the results\n",
        "print(\"Optimal value of f:\", f.value)  # Optimal flow values\n",
        "print(\"External inflow:\", B @ flow)  # Total flow on each edge (external inflow)"
      ],
      "metadata": {
        "id": "Qmm91I88SDsx"
      },
      "execution_count": null,
      "outputs": []
    },
    {
      "cell_type": "markdown",
      "source": [
        "## Exercise 3-4"
      ],
      "metadata": {
        "id": "azqhCiD_SG2M"
      }
    },
    {
      "cell_type": "code",
      "source": [
        "# Define the exogenous inflow vector\n",
        "exogenousInflow = np.array([16282, 0, 0, 0, 0, 0, 0, 0, 0, 0, 0, 0, 0, 0, 0, 0, -16282])\n",
        "\n",
        "# Define the flow variable representing the flow on each edge in the network\n",
        "f = cp.Variable(B.shape[1])\n",
        "\n",
        "# Define the cost function to be minimized\n",
        "costFunction = cp.sum(\n",
        "    cp.multiply(traveltime * capacities, cp.inv_pos(1 - cp.multiply(f, 1 / capacities))) - traveltime * capacities\n",
        ")\n",
        "# The cost function is a combination of travel time, capacities, and flow on each edge\n",
        "\n",
        "# Define constraints for the optimization problem\n",
        "# B @ f == exogenousInflow ensures that the flow on each edge, when multiplied by matrix B, equals the specified external inflow vector.\n",
        "# f <= capacities restricts the flow on each edge to be less than or equal to its capacity.\n",
        "# f >= 0 enforces that the flow on each edge is non-negative.\n",
        "constraints = [f >= 0, B @ f == exogenousInflow, f <= capacities]\n",
        "\n",
        "# Solve the optimization problem to find the optimal flow and cost\n",
        "cost_optimal = cp.Problem(cp.Minimize(costFunction), constraints).solve()\n",
        "\n",
        "# Print the results\n",
        "print(\"Optimal flow:\", f.value)\n",
        "print(\"Optimal cost:\", cost_optimal)"
      ],
      "metadata": {
        "id": "n-O93bPYSLHa"
      },
      "execution_count": null,
      "outputs": []
    },
    {
      "cell_type": "markdown",
      "source": [
        "## Exercise 3-5"
      ],
      "metadata": {
        "id": "T_IKcdSUSONM"
      }
    },
    {
      "cell_type": "code",
      "source": [
        "# Define the cost function for Wardrop equilibrium\n",
        "costFunction2 = cp.sum(-cp.multiply(traveltime * capacities, cp.log(1 - (cp.multiply(f, 1 / capacities)))))\n",
        "# The cost function represents a form of Wardrop equilibrium in transportation networks\n",
        "\n",
        "# Define constraints for the optimization problem\n",
        "# Similar to the previous code, ensuring non-negativity, external inflow, and capacity constraints\n",
        "constraints2 = [f >= 0, B @ f == exogenousInflow, f <= capacities]\n",
        "\n",
        "# Solve the optimization problem to find the optimal flow and cost for Wardrop equilibrium\n",
        "cost_optimal2 = cp.Problem(cp.Minimize(costFunction2), constraints2).solve()\n",
        "\n",
        "# Print the result\n",
        "print(\"Wardrop equilibrium flow:\", f.value)"
      ],
      "metadata": {
        "id": "1AmhYhgkSRa-"
      },
      "execution_count": null,
      "outputs": []
    },
    {
      "cell_type": "markdown",
      "source": [
        "## Exercise 3-6"
      ],
      "metadata": {
        "id": "ermXZGXCSVZF"
      }
    },
    {
      "cell_type": "code",
      "source": [
        "# Define a toll function, which is currently set to return the input unchanged\n",
        "def toll_function(fe):\n",
        "    return fe\n",
        "\n",
        "# Calculate tolls based on the optimal flow values from the Wardrop equilibrium\n",
        "tolls = toll_function(f.value)\n",
        "\n",
        "# Define the cost function with tolls\n",
        "costFunction_with_tolls = cp.sum(\n",
        "    -cp.multiply(traveltime * capacities, cp.log(1 - (cp.multiply(f, 1 / capacities)))) + tolls\n",
        ")\n",
        "# The cost function now includes the tolls on each link\n",
        "\n",
        "# Define constraints for the optimization problem with tolls\n",
        "# Similar to previous constraints, ensuring non-negativity, external inflow, and capacity constraints\n",
        "constraints_with_tolls = [f >= 0, B @ f == exogenousInflow, f <= capacities]\n",
        "\n",
        "# Solve the optimization problem with tolls to find the new Wardrop equilibrium flow\n",
        "wardrop_equilibrium_flow_with_tolls = cp.Problem(cp.Minimize(costFunction_with_tolls), constraints_with_tolls).solve()\n",
        "\n",
        "# Print the results\n",
        "print(\"Wardrop equilibrium flow with tolls:\", f.value)\n",
        "print(\"Tolls on each link:\", tolls)\n",
        "print(\"New delay on each link:\", traveltime + tolls)"
      ],
      "metadata": {
        "id": "KFepWPenSbkt"
      },
      "execution_count": null,
      "outputs": []
    },
    {
      "cell_type": "markdown",
      "source": [
        "## Exercise 3-7"
      ],
      "metadata": {
        "id": "mxW1Wu0ISff8"
      }
    },
    {
      "cell_type": "code",
      "source": [
        "# Define the cost function for the system optimum\n",
        "costFunction_system_optimum = cp.sum(cp.multiply(f, traveltime - traveltime[0]))\n",
        "# The cost function represents the system optimum, aiming to minimize the total travel time\n",
        "\n",
        "# Define constraints for the optimization problem for the system optimum\n",
        "constraints_system_optimum = [f >= 0, B @ f == exogenousInflow, f <= capacities]\n",
        "\n",
        "# Solve the optimization problem to find the system optimum flow\n",
        "system_optimum_flow = cp.Problem(cp.Minimize(costFunction_system_optimum), constraints_system_optimum).solve()\n",
        "\n",
        "# Construct a toll vector w* such that the Wardrop equilibrium f(w) coincides with f*\n",
        "tolls_system_optimum = traveltime - traveltime[0]\n",
        "\n",
        "# Update the cost function with tolls for the new Wardrop equilibrium\n",
        "costFunction_with_tolls_system_optimum = cp.sum(\n",
        "    -cp.multiply(traveltime * capacities, cp.log(1 - (cp.multiply(f, 1 / capacities)))) + tolls_system_optimum\n",
        ")\n",
        "\n",
        "# Solve the optimization problem for the new Wardrop equilibrium with tolls\n",
        "wardrop_equilibrium_flow_with_tolls_system_optimum = cp.Problem(\n",
        "    cp.Minimize(costFunction_with_tolls_system_optimum), constraints_with_tolls\n",
        ").solve()\n",
        "\n",
        "# Display results\n",
        "print(\"System optimum flow (f*):\", f.value)\n",
        "print(\"Tolls for the system optimum (w*):\", tolls_system_optimum)\n",
        "print(\"Wardrop equilibrium flow with constructed tolls (f(w*)): \", f.value)"
      ],
      "metadata": {
        "id": "w5DD9JCVSi-q"
      },
      "execution_count": null,
      "outputs": []
    }
  ]
}